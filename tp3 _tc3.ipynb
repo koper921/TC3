{
 "cells": [
  {
   "cell_type": "code",
   "execution_count": 187,
   "metadata": {},
   "outputs": [
    {
     "name": "stdout",
     "output_type": "stream",
     "text": [
      "2960\n",
      "0.0\n",
      "579\n",
      "[[ 0.49557776]]\n"
     ]
    }
   ],
   "source": [
    "import nltk\n",
    "import string, pprint, os\n",
    "\n",
    "from sklearn.feature_extraction.text import TfidfVectorizer\n",
    "from sklearn.metrics.pairwise import cosine_similarity\n",
    "from collections import Counter\n",
    "\n",
    "DOC_DIR=\"TEXTES\"\n",
    "text_list=[]\n",
    "text_names=[]\n",
    "question_list=[]\n",
    "question_names=[]\n",
    "\n",
    "def get_tokens(file):\n",
    "    with open(file, 'r') as d:\n",
    "        text = d.read()\n",
    "        tokens = nltk.word_tokenize(clean_text(text))\n",
    "        return tokens\n",
    "\n",
    "def get_most_common_tokens(tokens, num):\n",
    "    count = Counter(tokens)\n",
    "    return count.most_common(num)\n",
    "\n",
    "def clean_text(text):\n",
    "        lowers = text.lower() #lower case for everyone\n",
    "        #remove the punctuation using the character deletion step of translate\n",
    "        punct_killer = str.maketrans('', '', string.punctuation)\n",
    "        no_punctuation = lowers.translate(punct_killer)\n",
    "        return no_punctuation\n",
    "\n",
    "def get_text(file):\n",
    "    with open(file, 'r') as d:\n",
    "        text = d.read()\n",
    "        return clean_text(text)\n",
    "    \n",
    "def tokenize(text):\n",
    "    return nltk.word_tokenize(text)\n",
    "    \n",
    "\n",
    "\n",
    "def create_tfidf(dir):\n",
    "    for subdir, dirs, files in os.walk(dir):\n",
    "        for file in files:\n",
    "            if file.endswith(\".txt\"):\n",
    "                #print(\"treating \"+file)\n",
    "                file_path = subdir + os.path.sep + file\n",
    "                #text_dict[file] = get_text(file_path)\n",
    "                text_list.append(get_text(file_path))\n",
    "                text_names.append(file)\n",
    "                \n",
    "def question_tfidf(dir):\n",
    "    for subdir, dirs, files in os.walk(dir):\n",
    "        for file in files:\n",
    "            if file.endswith(\".txt\"):\n",
    "                #print(\"treating \"+file)\n",
    "                file_path = subdir + os.path.sep + file\n",
    "                #text_dict[file] = get_text(file_path)\n",
    "                question_list.append(get_text(file_path))\n",
    "                question_names.append(file)\n",
    "\n",
    "def get_similarity(text1, text2, v):\n",
    "    t1 = v.transform([text1])\n",
    "    t2 = v.transform([text2])\n",
    "    return cosine_similarity(t1,t2)\n",
    "\n",
    "    \n",
    "if __name__ == '__main__':\n",
    "    #tokens = get_tokens('TEXTES/rd_12_psg_8_10.txt')\n",
    "    #create_tfidf(\"TEXTES\")\n",
    "    create_tfidf(\"C:/Users/MyPC/Documents/AIC-partage/TC3/data/texts\")\n",
    "    v = TfidfVectorizer(tokenizer=tokenize, stop_words='english')\n",
    "    tfidfs = v.fit_transform(text_list)\n",
    "    print(v.vocabulary_['located'])\n",
    "    print(tfidfs[1143,2960])                        \n",
    "\n",
    "    print(text_names.index(\"rd_16_psg_38_40.txt\"))\n",
    "\n",
    "    str1 = 'this sentence has unseen text such as computer but also king lord juliet'\n",
    "    str2 = 'i love computer text'\n",
    "    print(get_similarity(str1,str2,v))\n"
   ]
  },
  {
   "cell_type": "code",
   "execution_count": 3,
   "metadata": {},
   "outputs": [
    {
     "data": {
      "text/plain": [
       "'sent id100  and some predicted this would help build a new  larger audience for classical music  sent sent id101  such efforts have been successful to a point  leading to a string of highly popular crossover albums that topped pop charts  sent sent id102  a 1992 recording of henryk goreckis third symphony  a mournful work for soprano and orchestra by the contemporary polish composer  previously more cult figure than superstar  sold more than 1 million cds  sent'"
      ]
     },
     "execution_count": 3,
     "metadata": {},
     "output_type": "execute_result"
    }
   ],
   "source": [
    "text_list[0]"
   ]
  },
  {
   "cell_type": "code",
   "execution_count": 188,
   "metadata": {},
   "outputs": [
    {
     "name": "stdout",
     "output_type": "stream",
     "text": [
      "[('sent', 6), ('a', 5), ('and', 2), ('for', 2), ('to', 2), ('of', 2), ('more', 2), ('than', 2), ('id100', 1), ('some', 1)]\n",
      "[('sent', 'NN'), ('id100', 'NN'), ('and', 'CC'), ('some', 'DT'), ('predicted', 'VBD'), ('this', 'DT'), ('would', 'MD'), ('help', 'VB'), ('build', 'VB'), ('a', 'DT'), ('new', 'JJ'), ('larger', 'JJR'), ('audience', 'NN'), ('for', 'IN'), ('classical', 'JJ'), ('music', 'NN'), ('sent', 'VBD'), ('sent', 'VBN'), ('id101', 'NNS'), ('such', 'JJ'), ('efforts', 'NNS'), ('have', 'VBP'), ('been', 'VBN'), ('successful', 'JJ'), ('to', 'TO'), ('a', 'DT'), ('point', 'NN'), ('leading', 'VBG'), ('to', 'TO'), ('a', 'DT'), ('string', 'NN'), ('of', 'IN'), ('highly', 'RB'), ('popular', 'JJ'), ('crossover', 'NN'), ('albums', 'NNS'), ('that', 'WDT'), ('topped', 'VBD'), ('pop', 'NN'), ('charts', 'NNS'), ('sent', 'VBD'), ('sent', 'VBN'), ('id102', 'NN'), ('a', 'DT'), ('1992', 'CD'), ('recording', 'NN'), ('of', 'IN'), ('henryk', 'NN'), ('goreckis', 'NNS'), ('third', 'JJ'), ('symphony', 'VBP'), ('a', 'DT'), ('mournful', 'JJ'), ('work', 'NN'), ('for', 'IN'), ('soprano', 'NN'), ('and', 'CC'), ('orchestra', 'NN'), ('by', 'IN'), ('the', 'DT'), ('contemporary', 'JJ'), ('polish', 'JJ'), ('composer', 'NN'), ('previously', 'RB'), ('more', 'RBR'), ('cult', 'JJ'), ('figure', 'NN'), ('than', 'IN'), ('superstar', 'NN'), ('sold', 'VBD'), ('more', 'JJR'), ('than', 'IN'), ('1', 'CD'), ('million', 'CD'), ('cds', 'NNS'), ('sent', 'VBD')]\n",
      "<bound method Counter.most_common of Counter({('a', 'DT'): 5, ('sent', 'VBD'): 3, ('and', 'CC'): 2, ('for', 'IN'): 2, ('sent', 'VBN'): 2, ('to', 'TO'): 2, ('of', 'IN'): 2, ('than', 'IN'): 2, ('sent', 'NN'): 1, ('id100', 'NN'): 1, ('some', 'DT'): 1, ('predicted', 'VBD'): 1, ('this', 'DT'): 1, ('would', 'MD'): 1, ('help', 'VB'): 1, ('build', 'VB'): 1, ('new', 'JJ'): 1, ('larger', 'JJR'): 1, ('audience', 'NN'): 1, ('classical', 'JJ'): 1, ('music', 'NN'): 1, ('id101', 'NNS'): 1, ('such', 'JJ'): 1, ('efforts', 'NNS'): 1, ('have', 'VBP'): 1, ('been', 'VBN'): 1, ('successful', 'JJ'): 1, ('point', 'NN'): 1, ('leading', 'VBG'): 1, ('string', 'NN'): 1, ('highly', 'RB'): 1, ('popular', 'JJ'): 1, ('crossover', 'NN'): 1, ('albums', 'NNS'): 1, ('that', 'WDT'): 1, ('topped', 'VBD'): 1, ('pop', 'NN'): 1, ('charts', 'NNS'): 1, ('id102', 'NN'): 1, ('1992', 'CD'): 1, ('recording', 'NN'): 1, ('henryk', 'NN'): 1, ('goreckis', 'NNS'): 1, ('third', 'JJ'): 1, ('symphony', 'VBP'): 1, ('mournful', 'JJ'): 1, ('work', 'NN'): 1, ('soprano', 'NN'): 1, ('orchestra', 'NN'): 1, ('by', 'IN'): 1, ('the', 'DT'): 1, ('contemporary', 'JJ'): 1, ('polish', 'JJ'): 1, ('composer', 'NN'): 1, ('previously', 'RB'): 1, ('more', 'RBR'): 1, ('cult', 'JJ'): 1, ('figure', 'NN'): 1, ('superstar', 'NN'): 1, ('sold', 'VBD'): 1, ('more', 'JJR'): 1, ('1', 'CD'): 1, ('million', 'CD'): 1, ('cds', 'NNS'): 1})>\n"
     ]
    }
   ],
   "source": [
    "tokens = nltk.word_tokenize(text_list[0])\n",
    "clean_text_list = []\n",
    "for t in text_list :\n",
    "    clean_text_list.append(clean_text(t))\n",
    "\n",
    "token_text_com =[]\n",
    "token_text_tag =[]\n",
    "for c in clean_text_list:\n",
    "    token_text_com.append(    get_most_common_tokens(nltk.word_tokenize(c), 10))\n",
    "    token_text_tag.append(nltk.pos_tag(tokenize(c)))\n",
    "    \n",
    "print(token_text_com[0]) \n",
    "print(token_text_tag[0])\n",
    "\n",
    "\n",
    "cc =[]\n",
    "for t in token_text_tag: \n",
    "    counts = Counter((word, tag) for word, tag in t)\n",
    "    cc.append(counts.most_common)\n",
    "print(cc[0])    "
   ]
  },
  {
   "cell_type": "code",
   "execution_count": 48,
   "metadata": {},
   "outputs": [
    {
     "name": "stdout",
     "output_type": "stream",
     "text": [
      "sent id100  and some predicted this would help build a new  larger audience for classical music  sent sent id101  such efforts have been successful to a point  leading to a string of highly popular crossover albums that topped pop charts  sent sent id102  a 1992 recording of henryk goreckis third symphony  a mournful work for soprano and orchestra by the contemporary polish composer  previously more cult figure than superstar  sold more than 1 million cds  sent\n",
      "['sent', 'id100', 'and', 'some', 'predicted', 'this', 'would', 'help', 'build', 'a', 'new', 'larger', 'audience', 'for', 'classical', 'music', 'sent', 'sent', 'id101', 'such', 'efforts', 'have', 'been', 'successful', 'to', 'a', 'point', 'leading', 'to', 'a', 'string', 'of', 'highly', 'popular', 'crossover', 'albums', 'that', 'topped', 'pop', 'charts', 'sent', 'sent', 'id102', 'a', '1992', 'recording', 'of', 'henryk', 'goreckis', 'third', 'symphony', 'a', 'mournful', 'work', 'for', 'soprano', 'and', 'orchestra', 'by', 'the', 'contemporary', 'polish', 'composer', 'previously', 'more', 'cult', 'figure', 'than', 'superstar', 'sold', 'more', 'than', '1', 'million', 'cds', 'sent']\n"
     ]
    }
   ],
   "source": [
    "data = clean_text_list[0]\n",
    "print(data)\n",
    "words = nltk.word_tokenize(data)\n",
    "print(words)"
   ]
  },
  {
   "cell_type": "code",
   "execution_count": 110,
   "metadata": {},
   "outputs": [],
   "source": [
    "from nltk.corpus import wordnet\n",
    "\n",
    "def get_wordnet_pos( treebank_tag):  # tag POS TAG to tag Wordnet  pour appliquer le lemmatizer\n",
    "    if treebank_tag.startswith('J'):\n",
    "        return wordnet.ADJ\n",
    "    elif treebank_tag.startswith('V'):\n",
    "        return wordnet.VERB\n",
    "    elif treebank_tag.startswith('N'):\n",
    "        return wordnet.NOUN\n",
    "    elif treebank_tag.startswith('R'):\n",
    "        return wordnet.ADV\n",
    "    else:\n",
    "        return ''\n",
    "\n",
    "def penn_to_wn(tag):\n",
    "    return get_wordnet_pos(tag)"
   ]
  },
  {
   "cell_type": "code",
   "execution_count": 95,
   "metadata": {},
   "outputs": [
    {
     "name": "stdout",
     "output_type": "stream",
     "text": [
      "[('send', 3384), ('sent', 1386), ('sentsent', 1174), ('lrb', 391), ('rrb', 391), ('music', 370), ('aid', 277), ('year', 242), ('ad', 235), ('one', 233), ('use', 211), ('make', 209), ('change', 208), ('country', 205), ('also', 179), ('disease', 175), ('us', 173), ('time', 163), ('emission', 157), ('water', 152)]\n",
      "[(('send', 'NN'), 1408), (('sentsent', 'NN'), 887), (('send', 'VBP'), 774), (('send', 'VB'), 602), (('send', 'JJ'), 596), (('sent', 'VBD'), 497), (('music', 'NN'), 370), (('sent', 'JJ'), 358), (('sent', 'NN'), 355), (('rrb', 'NN'), 294), (('sentsent', 'JJ'), 266), (('aid', 'NN'), 250), (('year', 'NN'), 242), (('lrb', 'NN'), 237), (('ad', 'NN'), 235), (('one', 'CD'), 233), (('country', 'NN'), 205), (('change', 'NN'), 197), (('also', 'RB'), 179), (('use', 'NN'), 176)]\n",
      "[('NN', 29917), ('JJ', 11505), ('VBP', 3263), ('RB', 2889), ('VB', 2152), ('CD', 2032), ('VBD', 1045), ('IN', 815), ('NNS', 811), ('MD', 460), ('VBN', 376), ('VBZ', 267), ('VBG', 211), ('PRP', 185), ('JJS', 150)]\n"
     ]
    }
   ],
   "source": [
    "from nltk.corpus import stopwords\n",
    "data = clean_text_list[0]\n",
    "stopWords = set(stopwords.words('english'))\n",
    "words = nltk.word_tokenize(data)\n",
    "wordsFiltered = []\n",
    " \n",
    "for w in words:\n",
    "    if w not in stopWords:\n",
    "        wordsFiltered.append(w)\n",
    "        \n",
    "        \n",
    "#TODO RAJOUTER TAG AVEC MOT \\ STOP WORDS \n",
    "#print(wordsFiltered)\n",
    "words_sans_stop = [nltk.word_tokenize(w) for w in wordsFiltered ]\n",
    "\n",
    "words_sans_stop_tag = [nltk.pos_tag(w) for w in words_sans_stop  ]\n",
    "#print(words_sans_stop_tag)\n",
    "\n",
    "\n",
    "def word_filtered (text):   # enlever les stop words de la liste pour garder les mots \"intéressant\"  , ex : on supprime les determeinant \n",
    "    stopWords = set(stopwords.words('english'))\n",
    "    words = nltk.word_tokenize(text)\n",
    "    wordsFiltered = []\n",
    "    for w in words:\n",
    "        if w not in stopWords:\n",
    "            wordsFiltered.append(w)\n",
    "    return wordsFiltered\n",
    "\n",
    "def tag(text_en_list):\n",
    "    return nltk.pos_tag(text_en_list)\n",
    "\n",
    "def lemmatizer_list(tagged_list_words):  # on lemmatize les mots dans cette fonction \n",
    "    words=[]\n",
    "    for word, tag in tagged_list_words:\n",
    "        if penn_to_wn(tag) == '':\n",
    "            words.append(word)\n",
    "        else : \n",
    "            words.append(wordnet_lemmatizer.lemmatize(word,penn_to_wn(tag)))\n",
    "    return words\n",
    "\n",
    "def U_list(liste ):    # joindre les liste \n",
    "    liste_jointe = []\n",
    "    for l in liste :\n",
    "        liste_jointe = liste_jointe + l\n",
    "    return liste_jointe\n",
    "\n",
    "def U_String(liste): # joindre les string \n",
    "    liste_jointe=\"\"\n",
    "    \n",
    "    for l in liste :\n",
    "        liste_jointe = liste_jointe + l\n",
    "    return liste_jointe\n",
    "\n",
    "def cat(liste, n):        # ressort les categories les plus présentes \n",
    "    count = Counter(tag for w, tag in liste)\n",
    "    return count.most_common(n)\n",
    "                \n",
    "\n",
    "\n",
    "mot_sans_sw = word_filtered(U_String(clean_text_list))  # recuperer string de tous les fichiers et enlever stop wors english\n",
    "mot_sans_sw_tag = tag(mot_sans_sw) # POS taguer tous les mots \n",
    "list_lemm = lemmatizer_list((mot_sans_sw_tag))# lemmatiser tous les mots \n",
    "list_lemm_tag = tag(list_lemm)\n",
    "mille_lem = get_most_common_tokens(list_lemm, 1000) # afficher les mots les plus fréquent jusqu'au 1000 eme\n",
    "mille_lem_tag = get_most_common_tokens(list_lemm_tag, 1000) # afficher les mots les plus fréquent jusqu'au 1000 eme\n",
    "categories =cat( list_lemm_tag, 15) # les categories les plus fréquentes , on a enlevé precedement stop words donc éfficace\n",
    "\n",
    "print(mille_lem[0:20])      \n",
    "print(mille_lem_tag[0:20])\n",
    "print(categories)\n",
    "            \n",
    "        \n",
    "\n"
   ]
  },
  {
   "cell_type": "code",
   "execution_count": 109,
   "metadata": {},
   "outputs": [
    {
     "data": {
      "image/png": "[encoded data removed]",
      "text/plain": [
       "<matplotlib.figure.Figure at 0x200c967a4e0>"
      ]
     },
     "metadata": {},
     "output_type": "display_data"
    }
   ],
   "source": [
    "from collections import Counter   #graphe occurences termes \n",
    "import numpy as np\n",
    "import matplotlib.pyplot as plt\n",
    "\n",
    "ciquante_lem = get_most_common_tokens(list_lemm, 1000)\n",
    "labels, values = zip(*ciquante_lem)\n",
    "\n",
    "indexes = np.arange(len(labels))\n",
    "width = 1\n",
    "\n",
    "plt.bar(indexes, np.log(values), width)\n",
    "plt.xticks(indexes + width * 0.5, labels)\n",
    "plt.show()"
   ]
  },
  {
   "cell_type": "code",
   "execution_count": 176,
   "metadata": {},
   "outputs": [
    {
     "name": "stdout",
     "output_type": "stream",
     "text": [
      "sent id100  and some predicted this would help build a new  larger audience for classical music  sent sent id101  such efforts have been successful to a point  leading to a string of highly popular crossover albums that topped pop charts  sent sent id102  a 1992 recording of henryk goreckis third symphony  a mournful work for soprano and orchestra by the contemporary polish composer  previously more cult figure than superstar  sold more than 1 million cds  sentsent id101  such efforts have been successful to a point  leading to a string of highly popular crossover albums that topped pop charts  sent sent id102  a 1992 recording of henryk goreckis third symphony  a mournful work for soprano and orchestra by the contemporary polish composer  previously more cult figure than superstar  sold more than 1 million cds  sent sent id103  even more successful was chant  recorded by benedictine monks in northern spain  sent\n"
     ]
    }
   ],
   "source": [
    "#EX2\n",
    "text0 =clean_text_list[0]+clean_text_list[1]\n",
    "print(text0)"
   ]
  },
  {
   "cell_type": "code",
   "execution_count": 177,
   "metadata": {},
   "outputs": [],
   "source": [
    "from sklearn.feature_extraction.text import TfidfVectorizer\n",
    "from nltk.stem.porter import PorterStemmer\n",
    "\n",
    "def tokenize_(text):\n",
    "    tokens = nltk.word_tokenize(text)\n",
    "    stems = []\n",
    "    for item in tokens:\n",
    "        stems.append(PorterStemmer().stem(item))\n",
    "    return stems\n",
    "\n",
    "\n",
    "tfidf = TfidfVectorizer(tokenizer=tokenize, stop_words='english')   #vectoriser \n",
    "tfs = tfidf.fit_transform(tokenize(text0))"
   ]
  },
  {
   "cell_type": "code",
   "execution_count": 182,
   "metadata": {},
   "outputs": [
    {
     "name": "stdout",
     "output_type": "stream",
     "text": [
      "[('sent', 10), ('a', 9), ('more', 5), ('to', 4), ('of', 4), ('than', 4), ('and', 3), ('for', 3), ('successful', 3), ('by', 3), ('id101', 2), ('such', 2), ('efforts', 2), ('have', 2), ('been', 2), ('point', 2), ('leading', 2), ('string', 2), ('highly', 2), ('popular', 2), ('crossover', 2), ('albums', 2), ('that', 2), ('topped', 2), ('pop', 2), ('charts', 2), ('id102', 2), ('1992', 2), ('recording', 2), ('henryk', 2)]\n",
      "  (0, 50)\t0.239544214321\n",
      "  (0, 47)\t0.225514846799\n",
      "  (0, 46)\t0.239544214321\n",
      "  (0, 41)\t0.176182189902\n",
      "  (0, 40)\t0.239544214321\n",
      "  (0, 36)\t0.239544214321\n",
      "  (0, 35)\t0.239544214321\n",
      "  (0, 33)\t0.239544214321\n",
      "  (0, 25)\t0.239544214321\n",
      "  (0, 22)\t0.239544214321\n",
      "  (0, 21)\t0.239544214321\n",
      "  (0, 19)\t0.239544214321\n",
      "  (0, 18)\t0.239544214321\n",
      "  (0, 14)\t0.239544214321\n",
      "  (0, 12)\t0.239544214321\n",
      "  (0, 8)\t0.239544214321\n",
      "  (0, 2)\t0.239544214321\n",
      "  (0, 1)\t0.239544214321\n"
     ]
    }
   ],
   "source": [
    "top =get_most_common_tokens(tokenize(text0), 30)\n",
    "counts = Counter (w for w in tokenize(text0))\n",
    "print(top)\n",
    "string = \"\"\n",
    "for s, number in top :\n",
    "    string = string +\" \"+ s \n",
    "    \n",
    "\n",
    "response = tfidf.transform([string])\n",
    "print (response)"
   ]
  },
  {
   "cell_type": "code",
   "execution_count": 172,
   "metadata": {},
   "outputs": [
    {
     "data": {
      "text/plain": [
       "6"
      ]
     },
     "execution_count": 172,
     "metadata": {},
     "output_type": "execute_result"
    }
   ],
   "source": [
    "counts[\"sent\"]"
   ]
  },
  {
   "cell_type": "code",
   "execution_count": 179,
   "metadata": {},
   "outputs": [],
   "source": [
    "def list_to_dict(liste):\n",
    "    attrs = {}\n",
    "    for l in liste:\n",
    "        attrs[l[0]] = l[1]\n",
    "    return attrs \n",
    "\n",
    "#dict_counts = list_to_dict(counts)\n",
    "#dict_top[\"sent\"]"
   ]
  },
  {
   "cell_type": "code",
   "execution_count": 183,
   "metadata": {},
   "outputs": [
    {
     "name": "stdout",
     "output_type": "stream",
     "text": [
      "topped  -  0.239544214321  fréquence  2\n",
      "successful  -  0.225514846799  fréquence  3\n",
      "string  -  0.239544214321  fréquence  2\n",
      "sent  -  0.176182189902  fréquence  10\n",
      "recording  -  0.239544214321  fréquence  2\n",
      "popular  -  0.239544214321  fréquence  2\n",
      "pop  -  0.239544214321  fréquence  2\n",
      "point  -  0.239544214321  fréquence  2\n",
      "leading  -  0.239544214321  fréquence  2\n",
      "id102  -  0.239544214321  fréquence  2\n",
      "id101  -  0.239544214321  fréquence  2\n",
      "highly  -  0.239544214321  fréquence  2\n",
      "henryk  -  0.239544214321  fréquence  2\n",
      "efforts  -  0.239544214321  fréquence  2\n",
      "crossover  -  0.239544214321  fréquence  2\n",
      "charts  -  0.239544214321  fréquence  2\n",
      "albums  -  0.239544214321  fréquence  2\n",
      "1992  -  0.239544214321  fréquence  2\n"
     ]
    }
   ],
   "source": [
    "feature_names = tfidf.get_feature_names()   # plus fréquence élevé moins poid tfid élevé\n",
    "for col in response.nonzero()[1]:\n",
    "    print (feature_names[col], ' - ', response[0, col], \" fréquence \", counts[feature_names[col]])"
   ]
  },
  {
   "cell_type": "code",
   "execution_count": 140,
   "metadata": {},
   "outputs": [
    {
     "data": {
      "text/plain": [
       "'sent id100  and some predicted this would help build a new  larger audience for classical music  sent sent id101  such efforts have been successful to a point  leading to a string of highly popular crossover albums that topped pop charts  sent sent id102  a 1992 recording of henryk goreckis third symphony  a mournful work for soprano and orchestra by the contemporary polish composer  previously more cult figure than superstar  sold more than 1 million cds  sent'"
      ]
     },
     "execution_count": 140,
     "metadata": {},
     "output_type": "execute_result"
    }
   ],
   "source": [
    "text0"
   ]
  },
  {
   "cell_type": "code",
   "execution_count": 173,
   "metadata": {},
   "outputs": [
    {
     "data": {
      "text/plain": [
       "array([35, 32, 26, 25, 21, 18, 15,  7,  4,  3], dtype=int32)"
      ]
     },
     "execution_count": 173,
     "metadata": {},
     "output_type": "execute_result"
    }
   ],
   "source": [
    "response.nonzero()[1]"
   ]
  },
  {
   "cell_type": "code",
   "execution_count": 186,
   "metadata": {},
   "outputs": [
    {
     "data": {
      "text/plain": [
       "'sent id100  and some predicted this would help build a new  larger audience for classical music  sent sent id101  such efforts have been successful to a point  leading to a string of highly popular crossover albums that topped pop charts  sent sent id102  a 1992 recording of henryk goreckis third symphony  a mournful work for soprano and orchestra by the contemporary polish composer  previously more cult figure than superstar  sold more than 1 million cds  sentsent id101  such efforts have been successful to a point  leading to a string of highly popular crossover albums that topped pop charts  sent sent id102  a 1992 recording of henryk goreckis third symphony  a mournful work for soprano and orchestra by the contemporary polish composer  previously more cult figure than superstar  sold more than 1 million cds  sent sent id103  even more successful was chant  recorded by benedictine monks in northern spain  sentsent id102  a 1992 recording of henryk goreckis third symphony  a mournful work for soprano and orchestra by the contemporary polish composer  previously more cult figure than superstar  sold more than 1 million cds  sent sent id103  even more successful was chant  recorded by benedictine monks in northern spain  sent sent id104  originally promoted by emi spain as an antidote to stress  the company undertook a us marketing campaign after sales began to rise that included reducing the two cd recording to one disc  shortening the title from las mejores obras del canto gregoriano lrb the best of gregorian chants rrb to the snappier chant  commissioning an eye catching new cover  and even shooting a video clip to accompany  alleluia  beatus vir qui suffert   sentsent id103  even more successful was chant  recorded by benedictine monks in northern spain  sent sent id104  originally promoted by emi spain as an antidote to stress  the company undertook a us marketing campaign after sales began to rise that included reducing the two cd recording to one disc  shortening the title from las mejores obras del canto gregoriano lrb the best of gregorian chants rrb to the snappier chant  commissioning an eye catching new cover  and even shooting a video clip to accompany  alleluia  beatus vir qui suffert   sent sent id105  sales  in excess of 4 million  probably amount to more copies than all other gregorian chant cds combined  sentsent id104  originally promoted by emi spain as an antidote to stress  the company undertook a us marketing campaign after sales began to rise that included reducing the two cd recording to one disc  shortening the title from las mejores obras del canto gregoriano lrb the best of gregorian chants rrb to the snappier chant  commissioning an eye catching new cover  and even shooting a video clip to accompany  alleluia  beatus vir qui suffert   sent sent id105  sales  in excess of 4 million  probably amount to more copies than all other gregorian chant cds combined  sent sent id106  yet  a business strategy based on crossover blockbusters has turned out to be unreliable  sentsent id105  sales  in excess of 4 million  probably amount to more copies than all other gregorian chant cds combined  sent sent id106  yet  a business strategy based on crossover blockbusters has turned out to be unreliable  sent sent id107  just as nobody had imagined the extraordinary success of the three tenors  finding and marketing the next classical mega hit has been difficult and unpredictable  with little guidance from the three very different hits mentioned above  the three tenors is a crowd pleasing medley of songs including the greatest hits of the opera repertory sung by the reigning tenors of the day  chant consists of simple  unaccompanied melodies from the very beginning of western music  and goreckis third symphony is a somber piece in the minimalist tradition by a modern composer  sentsent id106  yet  a business strategy based on crossover blockbusters has turned out to be unreliable  sent sent id107  just as nobody had imagined the extraordinary success of the three tenors  finding and marketing the next classical mega hit has been difficult and unpredictable  with little guidance from the three very different hits mentioned above  the three tenors is a crowd pleasing medley of songs including the greatest hits of the opera repertory sung by the reigning tenors of the day  chant consists of simple  unaccompanied melodies from the very beginning of western music  and goreckis third symphony is a somber piece in the minimalist tradition by a modern composer  sent sent id108  notes then senior vice president at decca lrb the record label responsible for the three tenors rrb   there are occasional miracles  but such blockbusters are rare  they have to be seen as special  almost freak occurrences  sentsent id107  just as nobody had imagined the extraordinary success of the three tenors  finding and marketing the next classical mega hit has been difficult and unpredictable  with little guidance from the three very different hits mentioned above  the three tenors is a crowd pleasing medley of songs including the greatest hits of the opera repertory sung by the reigning tenors of the day  chant consists of simple  unaccompanied melodies from the very beginning of western music  and goreckis third symphony is a somber piece in the minimalist tradition by a modern composer  sent sent id108  notes then senior vice president at decca lrb the record label responsible for the three tenors rrb   there are occasional miracles  but such blockbusters are rare  they have to be seen as special  almost freak occurrences  sent sent id109   moreover  if amazons  customers also bought  links are any indication  such one time hits dont appear to have spilled over into increased sales in the standard repertoire  sentsent id108  notes then senior vice president at decca lrb the record label responsible for the three tenors rrb   there are occasional miracles  but such blockbusters are rare  they have to be seen as special  almost freak occurrences  sent sent id109   moreover  if amazons  customers also bought  links are any indication  such one time hits dont appear to have spilled over into increased sales in the standard repertoire  sent sent id110  customers who purchased the three tenors have also bought other crossover cds  like pavarottis greatest hits or the  1 opera album  but dont appear to have ventured into traditional opera cds  like pavarottis turandot or la bohã¨me  sent\\nsent id109   moreover  if amazons  customers also bought  links are any indication  such one time hits dont appear to have spilled over into increased sales in the standard repertoire  sent sent id110  customers who purchased the three tenors have also bought other crossover cds  like pavarottis greatest hits or the  1 opera album  but dont appear to have ventured into traditional opera cds  like pavarottis turandot or la bohã¨me  sent sent id111  while the major recording companies pursued the seductive but elusive lure of mega hits  a number of companies have been quite successful  commercially and artistically  by taking other approaches  sent\\nsent id10  classical music stations have disappeared in many cities  one third of the nations top 100 radio markets do not have a classical station  sent sent id11  after 63 years  chevrontexacos radio broadcast from the metropolitan opera house will be off the air next year  sent sent id12  many symphony orchestras are cutting back programs and suffering financial difficulties  sentsent id110  customers who purchased the three tenors have also bought other crossover cds  like pavarottis greatest hits or the  1 opera album  but dont appear to have ventured into traditional opera cds  like pavarottis turandot or la bohã¨me  sent sent id111  while the major recording companies pursued the seductive but elusive lure of mega hits  a number of companies have been quite successful  commercially and artistically  by taking other approaches  sent sent id112  the label naxos  for example  records new versions of the standard repertory without star performers to keep costs reasonable  hyperion and others specialize in recording and releasing less often heard  more adventurous works  sent\\nsent id111  while the major recording companies pursued the seductive but elusive lure of mega hits  a number of companies have been quite successful  commercially and artistically  by taking other approaches  sent sent id112  the label naxos  for example  records new versions of the standard repertory without star performers to keep costs reasonable  hyperion and others specialize in recording and releasing less often heard  more adventurous works  sent sent id113  the success of these firms suggests that classical music may still have some life in it yet  sentsent id112  the label naxos  for example  records new versions of the standard repertory without star performers to keep costs reasonable  hyperion and others specialize in recording and releasing less often heard  more adventurous works  sent sent id113  the success of these firms suggests that classical music may still have some life in it yet  sent sent id114  classical music may never be the most popular music  sentsent id113  the success of these firms suggests that classical music may still have some life in it yet  sent sent id114  classical music may never be the most popular music  sent sent id115  and changes are afoot in the industry  and not only in classical music  as the internet and other technological advancements roil the landscape and challenge traditional ways of doing business  sentsent id114  classical music may never be the most popular music  sent sent id115  and changes are afoot in the industry  and not only in classical music  as the internet and other technological advancements roil the landscape and challenge traditional ways of doing business  sent sent id116  for example  the initial success of apples itunes music store suggests there may be new and viable ways of buying recorded music over the internet  sentsent id115  and changes are afoot in the industry  and not only in classical music  as the internet and other technological advancements roil the landscape and challenge traditional ways of doing business  sent sent id116  for example  the initial success of apples itunes music store suggests there may be new and viable ways of buying recorded music over the internet  sent sent id117  these developments may change the ways in which we consume and experience classical music  sentsent id116  for example  the initial success of apples itunes music store suggests there may be new and viable ways of buying recorded music over the internet  sent sent id117  these developments may change the ways in which we consume and experience classical music  sent sent id118  but that does not necessarily signal its demise  sentsent id117  these developments may change the ways in which we consume and experience classical music  sent sent id118  but that does not necessarily signal its demise  sent sent id119  however  both artists and business people need to think hard about who their future audience is going to be and how to make classical music exciting and relevant to that audience  sentsent id118  but that does not necessarily signal its demise  sent sent id119  however  both artists and business people need to think hard about who their future audience is going to be and how to make classical music exciting and relevant to that audience  sent sent id120  whether by delivering neglected repertory  or offering fresh interpretations of old favorites to a small but dedicated audience  or by shedding antiquated conventions and trying to expand into new territory  in the end  successful strategies will need to make people care about the music  sentsent id119  however  both artists and business people need to think hard about who their future audience is going to be and how to make classical music exciting and relevant to that audience  sent sent id120  whether by delivering neglected repertory  or offering fresh interpretations of old favorites to a small but dedicated audience  or by shedding antiquated conventions and trying to expand into new territory  in the end  successful strategies will need to make people care about the music  sent sent id121  these experiments may mean the death of the classical music business as we know it  but also may provide an opportunity for rebirth and renewal \\n sentsent id11  after 63 years  chevrontexacos radio broadcast from the metropolitan opera house will be off the air next year  sent sent id12  many symphony orchestras are cutting back programs and suffering financial difficulties  sent sent id13  the pittsburgh symphony is selling its concert hall  sentsent id12  many symphony orchestras are cutting back programs and suffering financial difficulties  sent sent id13  the pittsburgh symphony is selling its concert hall  sent sent id14  a sign of the times  the  death of classical music archive  on artsjournalcom contains more than 50 recent articles on the topic  sentsent id13  the pittsburgh symphony is selling its concert hall  sent sent id14  a sign of the times  the  death of classical music archive  on artsjournalcom contains more than 50 recent articles on the topic  sent sent id15  at the same time  it is easier than ever to buy any classical cd one might desire  sentsent id14  a sign of the times  the  death of classical music archive  on artsjournalcom contains more than 50 recent articles on the topic  sent sent id15  at the same time  it is easier than ever to buy any classical cd one might desire  sent sent id16  a recent search on amazoncom for beethovens symphony no 5 yielded a staggering 874 options  including 276 different recordings of a complete performance of all four movements  sentsent id15  at the same time  it is easier than ever to buy any classical cd one might desire  sent sent id16  a recent search on amazoncom for beethovens symphony no 5 yielded a staggering 874 options  including 276 different recordings of a complete performance of all four movements  sent sent id17  the choices included every imaginable compilation lrb from beethoven  greatest hits to beethoven  super hits rrb and every possible price point lrb from  298 for a performance by an unnamed orchestra to  10198 for a boxed set with famed conductor herbert von karajan rrb  sentsent id16  a recent search on amazoncom for beethovens symphony no 5 yielded a staggering 874 options  including 276 different recordings of a complete performance of all four movements  sent sent id17  the choices included every imaginable compilation lrb from beethoven  greatest hits to beethoven  super hits rrb and every possible price point lrb from  298 for a performance by an unnamed orchestra to  10198 for a boxed set with famed conductor herbert von karajan rrb  sent sent id18  previously hard to find works are also more readily available  sentsent id17  the choices included every imaginable compilation lrb from beethoven  greatest hits to beethoven  super hits rrb and every possible price point lrb from  298 for a performance by an unnamed orchestra to  10198 for a boxed set with famed conductor herbert von karajan rrb  sent sent id18  previously hard to find works are also more readily available  sent sent id19  as a piano student 20 years ago  i had trouble locating debussys  childrens corner  lrb a suite of miniatures for piano rrb performed by walter gieseking  but amazon instantly offered up two choices  sentsent id18  previously hard to find works are also more readily available  sent sent id19  as a piano student 20 years ago  i had trouble locating debussys  childrens corner  lrb a suite of miniatures for piano rrb performed by walter gieseking  but amazon instantly offered up two choices  sent sent id20  moreover  attendance at classical concerts appears to be rising slightly  sentsent id19  as a piano student 20 years ago  i had trouble locating debussys  childrens corner  lrb a suite of miniatures for piano rrb performed by walter gieseking  but amazon instantly offered up two choices  sent sent id20  moreover  attendance at classical concerts appears to be rising slightly  sent sent id21  according to a 1997 survey commissioned by the national endowment for the arts  more than 15 percent of respondents attended a classical music event the previous year  a 3 percentage point increase from five years earlier  sentsent id1  requiem for classical musica man stands surrounded by women  sent sent id2  he is tall and handsome with long  flowing hair  the women are worshipful  kneeling at his feet  sent sent id3  there is one particularly zealous admirer with large scissors  ready to cut a lock of his hair  sentsent id20  moreover  attendance at classical concerts appears to be rising slightly  sent sent id21  according to a 1997 survey commissioned by the national endowment for the arts  more than 15 percent of respondents attended a classical music event the previous year  a 3 percentage point increase from five years earlier  sent sent id22  and while classicals share of cds is not large  it appears to have held steady over the past 20 years  sentsent id21  according to a 1997 survey commissioned by the national endowment for the arts  more than 15 percent of respondents attended a classical music event the previous year  a 3 percentage point increase from five years earlier  sent sent id22  and while classicals share of cds is not large  it appears to have held steady over the past 20 years  sent sent id23  so  is classical music dying  sentsent id22  and while classicals share of cds is not large  it appears to have held steady over the past 20 years  sent sent id23  so  is classical music dying  sent sent id24  or are the reports of its demise simply exaggerated  sentsent id23  so  is classical music dying  sent sent id24  or are the reports of its demise simply exaggerated  sent sent id25  everybody knows classical music when they hear it  sentsent id24  or are the reports of its demise simply exaggerated  sent sent id25  everybody knows classical music when they hear it  sent sent id26  its old  sentsent id25  everybody knows classical music when they hear it  sent sent id26  its old  sent sent id27  its serious  sentsent id26  its old  sent sent id27  its serious  sent sent id28  its stuffy  sentsent id27  its serious  sent sent id28  its stuffy  sent sent id29  yet  classical music is an imprecise term  generally referring to western music from medieval times to the present day  sentsent id28  its stuffy  sent sent id29  yet  classical music is an imprecise term  generally referring to western music from medieval times to the present day  sent sent id30  most of what is commonly called classical music is indeed old  dating back to the sixth century when church chants were first written down and codified  sentsent id29  yet  classical music is an imprecise term  generally referring to western music from medieval times to the present day  sent sent id30  most of what is commonly called classical music is indeed old  dating back to the sixth century when church chants were first written down and codified  sent sent id31  however  much new classical music is being written right now  and much more is still to be written  sentsent id2  he is tall and handsome with long  flowing hair  the women are worshipful  kneeling at his feet  sent sent id3  there is one particularly zealous admirer with large scissors  ready to cut a lock of his hair  sent sent id4  if it werent for the corsets and bustles  this could be a scene of a rock star being hounded by hysterical female fans  sentsent id30  most of what is commonly called classical music is indeed old  dating back to the sixth century when church chants were first written down and codified  sent sent id31  however  much new classical music is being written right now  and much more is still to be written  sent sent id32  during the 2002 2003 season alone  207 works were premiered worldwide  sentsent id31  however  much new classical music is being written right now  and much more is still to be written  sent sent id32  during the 2002 2003 season alone  207 works were premiered worldwide  sent sent id33  it is often assumed that all classical music is serious and is written with artistic merit as its purpose  sentsent id32  during the 2002 2003 season alone  207 works were premiered worldwide  sent sent id33  it is often assumed that all classical music is serious and is written with artistic merit as its purpose  sent sent id34  but that is not the case  sentsent id33  it is often assumed that all classical music is serious and is written with artistic merit as its purpose  sent sent id34  but that is not the case  sent sent id35  classical music can be complex  deep  and intellectually meaty lrb like beethoven or brahms symphonies rrb  but it also can be light  irreverent  and frivolous lrb like strauss waltzes rrb  sentsent id34  but that is not the case  sent sent id35  classical music can be complex  deep  and intellectually meaty lrb like beethoven or brahms symphonies rrb  but it also can be light  irreverent  and frivolous lrb like strauss waltzes rrb  sent sent id36  and while knowledge and familiarity can enhance ones enjoyment of classical music  they are not required  much in the way one neednt be an elizabethan scholar to enjoy shakespeare or a filmstudies major to enjoy movies  sentsent id35  classical music can be complex  deep  and intellectually meaty lrb like beethoven or brahms symphonies rrb  but it also can be light  irreverent  and frivolous lrb like strauss waltzes rrb  sent sent id36  and while knowledge and familiarity can enhance ones enjoyment of classical music  they are not required  much in the way one neednt be an elizabethan scholar to enjoy shakespeare or a filmstudies major to enjoy movies  sent sent id37  many people enjoy classical music with little or no formal training  sentsent id36  and while knowledge and familiarity can enhance ones enjoyment of classical music  they are not required  much in the way one neednt be an elizabethan scholar to enjoy shakespeare or a filmstudies major to enjoy movies  sent sent id37  many people enjoy classical music with little or no formal training  sent sent id38  whatever its pretensions  artistic or otherwise  until the 19th century the classical music business was relatively prosaic  sentsent id37  many people enjoy classical music with little or no formal training  sent sent id38  whatever its pretensions  artistic or otherwise  until the 19th century the classical music business was relatively prosaic  sent sent id39  the composer was a staff function within the machinery of social organizations like the royal court  which employed musicians to sing and play for worship in the cathedral and for entertainment at the palace  sentsent id38  whatever its pretensions  artistic or otherwise  until the 19th century the classical music business was relatively prosaic  sent sent id39  the composer was a staff function within the machinery of social organizations like the royal court  which employed musicians to sing and play for worship in the cathedral and for entertainment at the palace  sent sent id40  many prominent composers  including monteverdi  haydn  and mozart  held such positions  sentsent id39  the composer was a staff function within the machinery of social organizations like the royal court  which employed musicians to sing and play for worship in the cathedral and for entertainment at the palace  sent sent id40  many prominent composers  including monteverdi  haydn  and mozart  held such positions  sent sent id41  these hired composersconductorsmusic directors generally worked at the whim of their employers  who were not always interested in music  sentsent id3  there is one particularly zealous admirer with large scissors  ready to cut a lock of his hair  sent sent id4  if it werent for the corsets and bustles  this could be a scene of a rock star being hounded by hysterical female fans  sent sent id5  yet  this is a caricature from 1876 depicting franz lizst and admirers after one of his concerts  sentsent id40  many prominent composers  including monteverdi  haydn  and mozart  held such positions  sent sent id41  these hired composersconductorsmusic directors generally worked at the whim of their employers  who were not always interested in music  sent sent id42  haydn is said to have composed the  surprise  symphony to wake dozing patrons after a big meal and the  farewell  symphony to send his employer a message that it was time to cut short a stay in the country because the musicians were homesick  sentsent id41  these hired composersconductorsmusic directors generally worked at the whim of their employers  who were not always interested in music  sent sent id42  haydn is said to have composed the  surprise  symphony to wake dozing patrons after a big meal and the  farewell  symphony to send his employer a message that it was time to cut short a stay in the country because the musicians were homesick  sent sent id43  consequently  many famous works in classical music were composed because they were in the job description  sentsent id42  haydn is said to have composed the  surprise  symphony to wake dozing patrons after a big meal and the  farewell  symphony to send his employer a message that it was time to cut short a stay in the country because the musicians were homesick  sent sent id43  consequently  many famous works in classical music were composed because they were in the job description  sent sent id44  for example  js bach lrb 1685 1750 rrb wrote his cycle of cantatas so that his choir would have a piece to perform each sunday  sentsent id43  consequently  many famous works in classical music were composed because they were in the job description  sent sent id44  for example  js bach lrb 1685 1750 rrb wrote his cycle of cantatas so that his choir would have a piece to perform each sunday  sent sent id45  and he dedicated the brandenburg concertos to a potential employer  as a job application of sorts  sentsent id44  for example  js bach lrb 1685 1750 rrb wrote his cycle of cantatas so that his choir would have a piece to perform each sunday  sent sent id45  and he dedicated the brandenburg concertos to a potential employer  as a job application of sorts  sent sent id46  by all accounts  bach was a methodical and industrious employee   in the business of holding jobs   sentsent id45  and he dedicated the brandenburg concertos to a potential employer  as a job application of sorts  sent sent id46  by all accounts  bach was a methodical and industrious employee   in the business of holding jobs   sent sent id47  he did not set out to create masterpieces of artistic importance  those turned out to be fortunate by products  sentsent id46  by all accounts  bach was a methodical and industrious employee   in the business of holding jobs   sent sent id47  he did not set out to create masterpieces of artistic importance  those turned out to be fortunate by products  sent sent id48  the rise of the bourgeois class by the eighteenth century set the stage for change  including the appearance of freelance composers  star performers  and the modern market for music  sentsent id47  he did not set out to create masterpieces of artistic importance  those turned out to be fortunate by products  sent sent id48  the rise of the bourgeois class by the eighteenth century set the stage for change  including the appearance of freelance composers  star performers  and the modern market for music  sent sent id49  as music moved out of the salons of aristocracy to the concert halls of the middle class  it became a public commercial activity in which the professional musicians performed for the paying audience  sent'"
      ]
     },
     "execution_count": 186,
     "metadata": {},
     "output_type": "execute_result"
    }
   ],
   "source": [
    "U_String(text_list[0:61])  # texte du premier doc "
   ]
  },
  {
   "cell_type": "code",
   "execution_count": 205,
   "metadata": {},
   "outputs": [
    {
     "name": "stdout",
     "output_type": "stream",
     "text": [
      "question:   who said it was no longer ok for classical records to sell only a few hundred copies a year\n",
      "\n",
      "year  -  0.456930661986\n",
      "said  -  0.481208098493\n",
      "records  -  0.481208098493\n",
      "copies  -  0.481208098493\n",
      "classical  -  0.310693849266\n",
      "\n",
      "\n",
      "Similarité :  [[ 0.11486203]]\n",
      "\n",
      "\n",
      "question:   which of the following is true of the three tenors\n",
      "\n",
      "tenors  -  1.0\n",
      "\n",
      "\n",
      "Similarité :  [[ 0.0707874]]\n",
      "\n",
      "\n",
      "question:   how many complete performances of beethovens fifth symphony were found on amazon\n",
      "\n",
      "symphony  -  0.414058426043\n",
      "complete  -  0.525533259278\n",
      "beethovens  -  0.525533259278\n",
      "amazon  -  0.525533259278\n",
      "\n",
      "\n",
      "Similarité :  [[ 0.06604269]]\n",
      "\n",
      "\n",
      "question:   why are women described as worshiping franz lizst\n",
      "\n",
      "women  -  0.545555827055\n",
      "lizst  -  0.592608150284\n",
      "franz  -  0.592608150284\n",
      "\n",
      "\n",
      "Similarité :  [[ 0.01667577]]\n",
      "\n",
      "\n",
      "question:   what led to market saturation of the core product\n",
      "\n",
      "market  -  1.0\n",
      "\n",
      "\n",
      "Similarité :  [[ 0.011814]]\n",
      "\n",
      "\n",
      "question:   by the nineteenth century what two elements governed the music business\n",
      "\n",
      "music  -  0.457287685432\n",
      "century  -  0.657095411019\n",
      "business  -  0.599260872717\n",
      "\n",
      "\n",
      "Similarité :  [[ 0.20232848]]\n",
      "\n",
      "\n",
      "question:   how did the writer of west side story bring classical music to millions of homes\n",
      "\n",
      "music  -  0.465290410742\n",
      "did  -  0.743628476209\n",
      "classical  -  0.480126569816\n",
      "\n",
      "\n",
      "Similarité :  [[ 0.26576072]]\n",
      "\n",
      "\n",
      "question:   why did the father of the symphony write the farewell symphony\n",
      "\n",
      "symphony  -  0.744226883609\n",
      "farewell  -  0.47229564137\n",
      "did  -  0.47229564137\n",
      "\n",
      "\n",
      "Similarité :  [[ 0.0863836]]\n",
      "\n",
      "\n",
      "question:   why did emi shorten the name of the album the best of gregorian chants to chant\n",
      "\n",
      "gregorian  -  0.366066548695\n",
      "emi  -  0.393464081997\n",
      "did  -  0.393464081997\n",
      "chants  -  0.366066548695\n",
      "chant  -  0.335759778062\n",
      "best  -  0.393464081997\n",
      "album  -  0.393464081997\n",
      "\n",
      "\n",
      "Similarité :  [[ 0.06984133]]\n",
      "\n",
      "\n",
      "question:   what added to liszts mystique\n",
      "\n",
      "\n",
      "\n",
      "Similarité :  [[ 0.]]\n",
      "\n",
      "\n"
     ]
    }
   ],
   "source": [
    "question_list=[]      #calcul poids tfid  pour chaque questions par rapport aux textes en question  et calcul similarité question /texte\n",
    "question_tfidf(\"C:/Users/MyPC/Documents/AIC-partage/TC3/data/questions\")\n",
    "tfidf = TfidfVectorizer(tokenizer=tokenize, stop_words='english')\n",
    "tfs = tfidf.fit_transform(tokenize(U_String(text_list[0:61])))  # prendre le premier doc \n",
    "compt = 1\n",
    "for q in question_list[0: 10] :\n",
    "    print(\"question:  \", q)\n",
    "    response = tfidf.transform([q])\n",
    "    feature_names = tfidf.get_feature_names()   # plus fréquence élevé moins poid tfid élevé\n",
    "    for col in response.nonzero()[1]:\n",
    "        print (feature_names[col], ' - ', response[0, col])\n",
    "    print(\"\\n\")\n",
    "    print(\"Similarité : \", get_similarity(U_String(text_list[0:61]), q, tfidf))\n",
    "    print(\"\\n\")\n",
    "    compt =compt +1 \n",
    "    \n"
   ]
  },
  {
   "cell_type": "code",
   "execution_count": 263,
   "metadata": {},
   "outputs": [
    {
     "data": {
      "text/plain": [
       "'who said it was no longer ok for classical records to sell only a few hundred copies a year '"
      ]
     },
     "execution_count": 263,
     "metadata": {},
     "output_type": "execute_result"
    }
   ],
   "source": [
    "synonyme_quest(question_list[0 ])"
   ]
  },
  {
   "cell_type": "code",
   "execution_count": 252,
   "metadata": {},
   "outputs": [
    {
     "name": "stdout",
     "output_type": "stream",
     "text": [
      "who said it wa no longer ok for classic record to sell onli a few hundr copi a year \n",
      "who said it was no longer ok for classical records to sell only a few hundred copies a year\n",
      "\n"
     ]
    },
    {
     "data": {
      "text/plain": [
       "'who said it wa no longer ok for classic record to sell onli a few hundr copi a year '"
      ]
     },
     "execution_count": 252,
     "metadata": {},
     "output_type": "execute_result"
    }
   ],
   "source": [
    "ss= \"\"\n",
    "for s in stemmer(tokenize(question_list[0 ])):\n",
    "    ss= ss +s+\" \"\n",
    "print(ss)\n",
    "print(question_list[0])\n",
    "def list_to_string(liste):\n",
    "    ss= \"\"\n",
    "    for s in liste :\n",
    "        ss= ss +s+\" \"\n",
    "    return ss \n",
    "list_to_string(stemmer(tokenize(question_list[0 ])))"
   ]
  },
  {
   "cell_type": "code",
   "execution_count": 253,
   "metadata": {},
   "outputs": [
    {
     "name": "stdout",
     "output_type": "stream",
     "text": [
      "question:   who said it was no longer ok for classical records to sell only a few hundred copies a year\n",
      "\n",
      "year  -  0.325609521447\n",
      "wa  -  0.328605012619\n",
      "sell  -  0.397102471183\n",
      "said  -  0.397102471183\n",
      "record  -  0.300954132459\n",
      "onli  -  0.397102471183\n",
      "copi  -  0.397102471183\n",
      "classic  -  0.254287838683\n",
      "\n",
      "\n",
      "Similarité :  [[ 0.02539435]]\n",
      "\n",
      "\n",
      "question:   which of the following is true of the three tenors\n",
      "\n",
      "tenor  -  1.0\n",
      "\n",
      "\n",
      "Similarité :  [[ 0.]]\n",
      "\n",
      "\n",
      "question:   how many complete performances of beethovens fifth symphony were found on amazon\n",
      "\n",
      "symphoni  -  0.361824472643\n",
      "perform  -  0.377829363483\n",
      "mani  -  0.39563892529\n",
      "complet  -  0.468698847357\n",
      "beethoven  -  0.399960830396\n",
      "amazon  -  0.436062597019\n",
      "\n",
      "\n",
      "Similarité :  [[ 0.01821319]]\n",
      "\n",
      "\n",
      "question:   why are women described as worshiping franz lizst\n",
      "\n",
      "worship  -  0.459976659616\n",
      "women  -  0.484415934713\n",
      "lizst  -  0.526195151443\n",
      "franz  -  0.526195151443\n",
      "\n",
      "\n",
      "Similarité :  [[ 0.01908107]]\n",
      "\n",
      "\n",
      "question:   what led to market saturation of the core product\n",
      "\n",
      "product  -  0.748486401679\n",
      "market  -  0.663150138733\n",
      "\n",
      "\n",
      "Similarité :  [[ 0.00766796]]\n",
      "\n",
      "\n",
      "question:   by the nineteenth century what two elements governed the music business\n",
      "\n",
      "music  -  0.457287685432\n",
      "centuri  -  0.657095411019\n",
      "busi  -  0.599260872717\n",
      "\n",
      "\n",
      "Similarité :  [[ 0.32663888]]\n",
      "\n",
      "\n",
      "question:   how did the writer of west side story bring classical music to millions of homes\n",
      "\n",
      "music  -  0.383128563567\n",
      "million  -  0.569680550931\n",
      "did  -  0.612317175122\n",
      "classic  -  0.392102347251\n",
      "\n",
      "\n",
      "Similarité :  [[ 0.18985362]]\n",
      "\n",
      "\n",
      "question:   why did the father of the symphony write the farewell symphony\n",
      "\n",
      "symphoni  -  0.737410214883\n",
      "farewel  -  0.477611858618\n",
      "did  -  0.477611858618\n",
      "\n",
      "\n",
      "Similarité :  [[ 0.01957632]]\n",
      "\n",
      "\n",
      "question:   why did emi shorten the name of the album the best of gregorian chants to chant\n",
      "\n",
      "shorten  -  0.345721370866\n",
      "gregorian  -  0.321648238896\n",
      "emi  -  0.345721370866\n",
      "did  -  0.345721370866\n",
      "chant  -  0.557388550168\n",
      "best  -  0.345721370866\n",
      "album  -  0.32827937715\n",
      "\n",
      "\n",
      "Similarité :  [[ 0.06361749]]\n",
      "\n",
      "\n",
      "question:   what added to liszts mystique\n",
      "\n",
      "\n",
      "\n",
      "Similarité :  [[ 0.]]\n",
      "\n",
      "\n"
     ]
    }
   ],
   "source": [
    "# appliquer du stemming sur les requetes et doc fait baisser  les similarités \n",
    "# mais si on rajoute les stemm aux string initial alors on pourrait avoir un gain de similarité \n",
    "\n",
    "\n",
    "from nltk.stem import PorterStemmer\n",
    "from nltk.tokenize import sent_tokenize, word_tokenize\n",
    " \n",
    "ps = PorterStemmer()\n",
    "\n",
    "question_list=[]\n",
    "\n",
    "def stemmer(liste_word ):\n",
    "    stem_list=[]\n",
    "    for w in liste_word:\n",
    "        stem_list.append(ps.stem(w))\n",
    "    return stem_list \n",
    "\n",
    "def list_to_string(liste):\n",
    "    ss= \"\"\n",
    "    for s in liste :\n",
    "        ss= ss +s+\" \"\n",
    "    return ss \n",
    "    \n",
    "        \n",
    "\n",
    "question_tfidf(\"C:/Users/MyPC/Documents/AIC-partage/TC3/data/questions\")\n",
    "tfidf = TfidfVectorizer(tokenizer=tokenize, stop_words='english')\n",
    "tfs = tfidf.fit_transform(stemmer(tokenize(U_String(text_list[0:61]))) ) # prendre le premier doc \n",
    "compt = 1\n",
    "for q in question_list[0: 10] :\n",
    "    print(\"question:  \", q)\n",
    "    response = tfidf.transform([list_to_string(stemmer(tokenize(q)))])\n",
    "    feature_names = tfidf.get_feature_names()   # plus fréquence élevé moins poid tfid élevé\n",
    "    for col in response.nonzero()[1]:\n",
    "        print (feature_names[col], ' - ', response[0, col])\n",
    "    print(\"\\n\")\n",
    "    print(\"Similarité : \", get_similarity(U_String(text_list[0:61]), q, tfidf))\n",
    "    print(\"\\n\")\n",
    "    compt =compt +1 \n",
    "    \n"
   ]
  },
  {
   "cell_type": "code",
   "execution_count": 267,
   "metadata": {},
   "outputs": [
    {
     "name": "stdout",
     "output_type": "stream",
     "text": [
      "question:   who said it was no longer ok for classical records to sell only a few hundred copies a year\n",
      "\n",
      "year  -  0.220816260683\n",
      "simply  -  0.0581371429846\n",
      "said  -  0.0581371429846\n",
      "record  -  0.7557828588\n",
      "long  -  0.541963753307\n",
      "just  -  0.0581371429846\n",
      "disc  -  0.0581371429846\n",
      "classical  -  0.225218812349\n",
      "class  -  0.0581371429846\n",
      "century  -  0.052270987357\n",
      "100  -  0.126302545251\n",
      "\n",
      "\n",
      "Similarité :  [[ 0.08960223]]\n",
      "\n",
      "\n",
      "question:   which of the following is true of the three tenors\n",
      "\n",
      "survey  -  0.408248290464\n",
      "accompany  -  0.408248290464\n",
      "3  -  0.816496580928\n",
      "\n",
      "\n",
      "Similarité :  [[ 0.02793822]]\n",
      "\n",
      "\n",
      "question:   how many complete performances of beethovens fifth symphony were found on amazon\n",
      "\n",
      "symphony  -  0.131651268533\n",
      "performance  -  0.388649924487\n",
      "complete  -  0.835475332568\n",
      "beethoven  -  0.148044261447\n",
      "amazon  -  0.334190133027\n",
      "\n",
      "\n",
      "Similarité :  [[ 0.05153823]]\n",
      "\n",
      "\n",
      "question:   why are women described as worshiping franz lizst\n",
      "\n",
      "worship  -  1.0\n",
      "\n",
      "\n",
      "Similarité :  [[ 0.0171086]]\n",
      "\n",
      "\n",
      "question:   what led to market saturation of the core product\n",
      "\n",
      "market  -  1.0\n",
      "\n",
      "\n",
      "Similarité :  [[ 0.011814]]\n",
      "\n",
      "\n",
      "question:   by the nineteenth century what two elements governed the music business\n",
      "\n",
      "past  -  0.118240839807\n",
      "music  -  0.369918115569\n",
      "job  -  0.110007541027\n",
      "century  -  0.212620198564\n",
      "business  -  0.872578527034\n",
      "19th  -  0.118240839807\n",
      "100  -  0.128438707629\n",
      "\n",
      "\n",
      "Similarité :  [[ 0.18794819]]\n",
      "\n",
      "\n",
      "question:   how did the writer of west side story bring classical music to millions of homes\n",
      "\n",
      "work  -  0.150323670007\n",
      "set  -  0.135155706851\n",
      "play  -  0.150323670007\n",
      "perform  -  0.300647340014\n",
      "music  -  0.47028969707\n",
      "million  -  0.279712784899\n",
      "make  -  0.428219065287\n",
      "house  -  0.15570459057\n",
      "classical  -  0.582342314892\n",
      "\n",
      "\n",
      "Similarité :  [[ 0.31822801]]\n",
      "\n",
      "\n",
      "question:   why did the father of the symphony write the farewell symphony\n",
      "\n",
      "symphony  -  0.608143901006\n",
      "set  -  0.173496996855\n",
      "perform  -  0.385935687217\n",
      "make  -  0.549697260696\n",
      "farewell  -  0.385935687217\n",
      "\n",
      "\n",
      "Similarité :  [[ 0.09258845]]\n",
      "\n",
      "\n",
      "question:   why did emi shorten the name of the album the best of gregorian chants to chant\n",
      "\n",
      "set  -  0.0765980539386\n",
      "right  -  0.0851943351243\n",
      "perform  -  0.170388670249\n",
      "make  -  0.323584778126\n",
      "just  -  0.0851943351243\n",
      "gregorian  -  0.158524234634\n",
      "figure  -  0.0851943351243\n",
      "cut  -  0.0792621173171\n",
      "chant  -  0.436199882464\n",
      "best  -  0.766749016119\n",
      "album  -  0.170388670249\n",
      "\n",
      "\n",
      "Similarité :  [[ 0.06826723]]\n",
      "\n",
      "\n",
      "question:   what added to liszts mystique\n",
      "\n",
      "\n",
      "\n",
      "Similarité :  [[ 0.]]\n",
      "\n",
      "\n"
     ]
    }
   ],
   "source": [
    "# appliquer synonymes pour expension requetes avec wordnet augmente similarité quelques requetes questions docs \n",
    "from nltk.corpus import wordnet \n",
    "wordnet.synsets(\"classical\")[0].lemmas()[0].name()\n",
    "\n",
    "\n",
    "\n",
    "def synonyme_quest (string ):   #ajouter synonymes à requetes pour plus de précision (avec WORDNET ) \n",
    "    synonyms = []\n",
    "    antonyms = []\n",
    "    liste = tokenize(string )\n",
    "    for w in liste:\n",
    "        for syn in wordnet.synsets(w):\n",
    "            for l in syn.lemmas():\n",
    "                synonyms.append(l.name())\n",
    "    s = list_to_string(synonyms)\n",
    "    return s\n",
    "\n",
    "question_list=[]\n",
    "question_tfidf(\"C:/Users/MyPC/Documents/AIC-partage/TC3/data/questions\")\n",
    "tfidf = TfidfVectorizer(tokenizer=tokenize, stop_words='english')\n",
    "tfs = tfidf.fit_transform(tokenize(U_String(text_list[0:61])))  # prendre le premier doc \n",
    "compt = 1\n",
    "for q in question_list[0: 10] :\n",
    "    print(\"question:  \", q)\n",
    "    response = tfidf.transform([synonyme_quest(q)])\n",
    "    feature_names = tfidf.get_feature_names()   # plus fréquence élevé moins poid tfid élevé\n",
    "    for col in response.nonzero()[1]:\n",
    "        print (feature_names[col], ' - ', response[0, col])\n",
    "    print(\"\\n\")\n",
    "    print(\"Similarité : \", get_similarity(U_String(text_list[0:61]), synonyme_quest(q), tfidf))\n",
    "    print(\"\\n\")\n",
    "    compt =compt +1 \n",
    "    "
   ]
  },
  {
   "cell_type": "code",
   "execution_count": 222,
   "metadata": {},
   "outputs": [
    {
     "ename": "ZeroDivisionError",
     "evalue": "division by zero",
     "output_type": "error",
     "traceback": [
      "\u001b[1;31m---------------------------------------------------------------------------\u001b[0m",
      "\u001b[1;31mZeroDivisionError\u001b[0m                         Traceback (most recent call last)",
      "\u001b[1;32m<ipython-input-222-fab401156853>\u001b[0m in \u001b[0;36m<module>\u001b[1;34m()\u001b[0m\n\u001b[0;32m     68\u001b[0m \u001b[1;33m\u001b[0m\u001b[0m\n\u001b[0;32m     69\u001b[0m \u001b[1;32mif\u001b[0m \u001b[0m__name__\u001b[0m \u001b[1;33m==\u001b[0m \u001b[1;34m'__main__'\u001b[0m\u001b[1;33m:\u001b[0m\u001b[1;33m\u001b[0m\u001b[0m\n\u001b[1;32m---> 70\u001b[1;33m     \u001b[0mprint\u001b[0m\u001b[1;33m(\u001b[0m\u001b[1;34m\"MRR: \"\u001b[0m\u001b[1;33m+\u001b[0m\u001b[0mstr\u001b[0m\u001b[1;33m(\u001b[0m\u001b[0mcalculate_mrr\u001b[0m\u001b[1;33m(\u001b[0m\u001b[0mQUESTION_FILE\u001b[0m\u001b[1;33m,\u001b[0m \u001b[1;34m\"sim.ranked\"\u001b[0m\u001b[1;33m)\u001b[0m\u001b[1;33m)\u001b[0m\u001b[1;33m)\u001b[0m\u001b[1;33m\u001b[0m\u001b[0m\n\u001b[0m\u001b[0;32m     71\u001b[0m     \u001b[1;31m#print(\"MRR: \"+str(calculate_mrr(\"TPRI_qa4mre/QUESTIONS\", \"sim.ranked\")))\u001b[0m\u001b[1;33m\u001b[0m\u001b[1;33m\u001b[0m\u001b[0m\n\u001b[0;32m     72\u001b[0m \u001b[1;33m\u001b[0m\u001b[0m\n",
      "\u001b[1;32m<ipython-input-222-fab401156853>\u001b[0m in \u001b[0;36mcalculate_mrr\u001b[1;34m(dir, ext)\u001b[0m\n\u001b[0;32m     24\u001b[0m             \u001b[0mmrr\u001b[0m \u001b[1;33m+=\u001b[0m \u001b[1;36m1\u001b[0m\u001b[1;33m/\u001b[0m\u001b[0mr\u001b[0m\u001b[1;33m\u001b[0m\u001b[0m\n\u001b[0;32m     25\u001b[0m         \u001b[0mnb_q\u001b[0m\u001b[1;33m+=\u001b[0m\u001b[1;36m1\u001b[0m\u001b[1;33m\u001b[0m\u001b[0m\n\u001b[1;32m---> 26\u001b[1;33m     \u001b[1;32mreturn\u001b[0m \u001b[1;33m(\u001b[0m\u001b[0mmrr\u001b[0m\u001b[1;33m/\u001b[0m\u001b[0mnb_q\u001b[0m\u001b[1;33m)\u001b[0m\u001b[1;33m\u001b[0m\u001b[0m\n\u001b[0m\u001b[0;32m     27\u001b[0m \u001b[1;33m\u001b[0m\u001b[0m\n\u001b[0;32m     28\u001b[0m \u001b[1;32mdef\u001b[0m \u001b[0mget_refs\u001b[0m\u001b[1;33m(\u001b[0m\u001b[1;33m)\u001b[0m\u001b[1;33m:\u001b[0m\u001b[1;33m\u001b[0m\u001b[0m\n",
      "\u001b[1;31mZeroDivisionError\u001b[0m: division by zero"
     ]
    }
   ],
   "source": [
    "# pas réussi à lancer le script ..\n",
    "\n",
    "import glob, re, pprint, csv\n",
    "import xml.etree.ElementTree as ET\n",
    "from collections import defaultdict\n",
    "\"\"\"\n",
    "if given result files in the form\n",
    "score    rd_xx_psq_yy.*\n",
    "\n",
    "and the annotated question file,\n",
    "returns the MRR score \n",
    "\"\"\"\n",
    "\n",
    "QUESTION_FILE='C:/Users/MyPC/Documents/AIC-partage/TC3/eval/QA4MRE-2012-EN_GS_annote.xml'\n",
    "\n",
    "def calculate_mrr(dir, ext):\n",
    "    ref = get_refs()\n",
    "\n",
    "    mrr=0\n",
    "    nb_q=0\n",
    "    \n",
    "    #get all files with a given extension. must be called rd_xxx_q_yyy though\n",
    "    for sim_file in glob.glob(dir+\"/*.\"+ext):\n",
    "        r = get_first_correct_answer(ref, sim_file)\n",
    "        if r != -1:\n",
    "            mrr += 1/r\n",
    "        nb_q+=1\n",
    "    return (mrr/nb_q)\n",
    "\n",
    "def get_refs():\n",
    "    refs=defaultdict(dict)\n",
    "    #qcm=open(\"QA4MRE-2012-EN_GS_annote.xml\", \"r\", encoding=\"utf-8\")\n",
    "    qcm_tree = ET.parse(QUESTION_FILE)\n",
    "    root=qcm_tree.getroot()\n",
    "\n",
    "    for reading_test in root.findall('.//reading-test'):\n",
    "        for question in reading_test.findall('.//q'):\n",
    "            for rep in question.findall('.//position'):\n",
    "                refs[reading_test.attrib['r_id']][question.attrib['q_id']]=rep.attrib['rep']\n",
    "                #print(\"rt \"+reading_test.attrib['r_id']+\" q \"+question.attrib['q_id']+\" rep \"+rep.attrib['rep'])\n",
    "    return refs\n",
    "    \n",
    "def get_first_correct_answer(ref, res_file):\n",
    "\n",
    "    n=re.match(r\".*rd_([0-9]+)_q_([0-9]+)\\..*\", res_file)\n",
    "    rank=1\n",
    "    if n:\n",
    "        rd_res, q_res=n.group(1), n.group(2)\n",
    "        # the result file is for a given reading doc and a given question\n",
    "        # the answer is in the sentence whose id is ref[rd_res][q_res]\n",
    "        with open(res_file, newline='') as csvfile:\n",
    "            f = csv.reader(csvfile, delimiter='\\t', quotechar='|')\n",
    "            for row in f:\n",
    "                score=row[0]\n",
    "                doc=row[1]\n",
    "                #m=re.match(r\"rd_([0-9]+)_psg_([0-9]+)_([0-9]+)\\.\", doc)\n",
    "                m=re.match(r\"rd_([0-9]+)_psg_([0-9]+)_([0-9]+)\\.\", doc)\n",
    "                #print(\"nokn\"+q_res)\n",
    "                \n",
    "                if m:\n",
    "                    rd, p_deb, p_fin = m.group(1), m.group(2), m.group(3)\n",
    "                    if(rd == rd_res) and (ref[rd_res][q_res] >= p_deb) and (ref[rd_res][q_res]<=p_fin):\n",
    "                        print(\"first correct answer for rd \"+rd+ \" q \"+q_res+\" at rank \"+str(rank))\n",
    "                        return rank\n",
    "                rank+=1\n",
    "                        \n",
    "    else:\n",
    "        print(\"problem with filename :-(\")\n",
    "    return -1\n",
    "        \n",
    "if __name__ == '__main__':\n",
    "    print(\"MRR: \"+str(calculate_mrr(QUESTION_FILE, \"sim.ranked\")))\n",
    "    #print(\"MRR: \"+str(calculate_mrr(\"TPRI_qa4mre/QUESTIONS\", \"sim.ranked\")))\n",
    "\n"
   ]
  },
  {
   "cell_type": "code",
   "execution_count": 231,
   "metadata": {},
   "outputs": [
    {
     "data": {
      "text/plain": [
       "<1x30 sparse matrix of type '<class 'numpy.float64'>'\n",
       "\twith 0 stored elements in Compressed Sparse Row format>"
      ]
     },
     "execution_count": 231,
     "metadata": {},
     "output_type": "execute_result"
    }
   ],
   "source": []
  },
  {
   "cell_type": "code",
   "execution_count": null,
   "metadata": {
    "collapsed": true
   },
   "outputs": [],
   "source": []
  }
 ],
 "metadata": {
  "kernelspec": {
   "display_name": "Python 3",
   "language": "python",
   "name": "python3"
  },
  "language_info": {
   "codemirror_mode": {
    "name": "ipython",
    "version": 3
   },
   "file_extension": ".py",
   "mimetype": "text/x-python",
   "name": "python",
   "nbconvert_exporter": "python",
   "pygments_lexer": "ipython3",
   "version": "3.6.3"
  }
 },
 "nbformat": 4,
 "nbformat_minor": 2
}
